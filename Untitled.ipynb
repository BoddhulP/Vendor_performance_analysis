{
 "cells": [
  {
   "cell_type": "code",
   "execution_count": 2,
   "id": "a5ba2db6-4e31-4189-bb41-4fd06ed68f96",
   "metadata": {},
   "outputs": [],
   "source": [
    "import pandas as pd\n",
    "import os\n",
    "from sqlalchemy import create_engine"
   ]
  },
  {
   "cell_type": "code",
   "execution_count": 4,
   "id": "7dd0ac71-5cb3-4b13-8f07-2895c0497bd1",
   "metadata": {},
   "outputs": [],
   "source": [
    "engine = create_engine('sqlite:///inventory.db')"
   ]
  },
  {
   "cell_type": "code",
   "execution_count": 6,
   "id": "744d31f3-85c7-4f2d-8dda-dd401503604f",
   "metadata": {},
   "outputs": [
    {
     "name": "stdout",
     "output_type": "stream",
     "text": [
      ".ipynb_checkpoints\n",
      "begin_inventory.csv\n",
      "end_inventory.csv\n",
      "purchases.csv\n",
      "purchase_prices.csv\n",
      "sales.csv\n",
      "vendor_invoice.csv\n"
     ]
    }
   ],
   "source": [
    "for file in os.listdir('data'):\n",
    "    print(file)"
   ]
  },
  {
   "cell_type": "code",
   "execution_count": 1,
   "id": "f53c4efc-75a5-4821-8ede-62f23bb44bee",
   "metadata": {},
   "outputs": [],
   "source": [
    "import pandas as pd\n",
    "import os\n",
    "from sqlalchemy import create_engine\n",
    "import logging\n",
    "import time\n",
    "logging.basicConfig(\n",
    "    filename='logs/ingestion_db.log',\n",
    "    level=logging.DEBUG,\n",
    "    format='%(asctime)s - %(levelname)s - %(message)s',\n",
    "    filemode= 'a'\n",
    ")\n",
    "\n",
    "engine = create_engine('sqlite:///inventory.db')\n",
    "\n",
    "def ingest_db(df, table_name, engine):\n",
    "  ''' this fun will ingest the dataframe into databse table'''\n",
    "  df.to_sql(table_name, con = engine, if_exists= 'replace', index= False)\n",
    "\n",
    "def load_raw_data():\n",
    "  ''' this fun will load the csv as df and ingest into db. '''\n",
    "  start = time.time()\n",
    "  for file in os.listdir('data'):\n",
    "    if '.csv' in file:\n",
    "      df = pd.read_csv(f'data/{file}')\n",
    "      logging.info(f'Ingesting {file} in db ')\n",
    "      ingest_db(df, file.replace('.csv', ''), engine)\n",
    "\n",
    "  end = time.time()\n",
    "  total_time = (end - start) / 60\n",
    "  logging.info('_____Data ingestion completed.______')\n",
    "  logging.info(f'Total time taken {total_time} min')\n",
    "\n",
    "if __name__ == '__main__':\n",
    "  load_raw_data()"
   ]
  },
  {
   "cell_type": "code",
   "execution_count": null,
   "id": "2f9e8caf-d4ec-4b3b-824d-12a552b3ae44",
   "metadata": {},
   "outputs": [],
   "source": []
  }
 ],
 "metadata": {
  "kernelspec": {
   "display_name": "Python 3 (ipykernel)",
   "language": "python",
   "name": "python3"
  },
  "language_info": {
   "codemirror_mode": {
    "name": "ipython",
    "version": 3
   },
   "file_extension": ".py",
   "mimetype": "text/x-python",
   "name": "python",
   "nbconvert_exporter": "python",
   "pygments_lexer": "ipython3",
   "version": "3.12.4"
  }
 },
 "nbformat": 4,
 "nbformat_minor": 5
}
